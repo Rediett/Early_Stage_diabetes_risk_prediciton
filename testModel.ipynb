{
 "cells": [
  {
   "cell_type": "code",
   "execution_count": 12,
   "metadata": {},
   "outputs": [],
   "source": [
    "import numpy as np\n",
    "import tensorflow as tf\n",
    "from tensorflow.keras.models import load_model\n",
    "import pandas as pd"
   ]
  },
  {
   "cell_type": "markdown",
   "metadata": {},
   "source": [
    "Load model"
   ]
  },
  {
   "cell_type": "code",
   "execution_count": 13,
   "metadata": {},
   "outputs": [],
   "source": [
    "Model = load_model(\"./models/PredictionModel.keras\")"
   ]
  },
  {
   "cell_type": "markdown",
   "metadata": {},
   "source": [
    "Get test data"
   ]
  },
  {
   "cell_type": "code",
   "execution_count": 14,
   "metadata": {},
   "outputs": [],
   "source": [
    "data = pd.read_csv(\"./data/diabetes_risk_prediction_dataset.csv\")\n",
    "data[\"Age\"]= [ int(i > 35) for i in data[\"Age\"]]\n",
    "\n",
    "x_data = data.copy()\n",
    "y_data = x_data.pop(\"class\")\n",
    "x_data, y_data = np.array(x_data), np.array(y_data)"
   ]
  },
  {
   "cell_type": "markdown",
   "metadata": {},
   "source": [
    "Predict"
   ]
  },
  {
   "cell_type": "code",
   "execution_count": 16,
   "metadata": {},
   "outputs": [
    {
     "name": "stdout",
     "output_type": "stream",
     "text": [
      "Prediction : 1.0 | Actual : 1\n"
     ]
    }
   ],
   "source": [
    "\n",
    "@tf.autograph.experimental.do_not_convert\n",
    "def make_prediction(input_data):\n",
    "    return Model.predict(input_data)\n",
    "\n",
    "index = 15 # max of 520\n",
    "pred = make_prediction(np.array([x_data[index]]))\n",
    "print(f'Prediction : {np.round(pred[0])[0]} | Actual : {y_data[index]}')"
   ]
  }
 ],
 "metadata": {
  "kernelspec": {
   "display_name": "Python 3",
   "language": "python",
   "name": "python3"
  },
  "language_info": {
   "codemirror_mode": {
    "name": "ipython",
    "version": 3
   },
   "file_extension": ".py",
   "mimetype": "text/x-python",
   "name": "python",
   "nbconvert_exporter": "python",
   "pygments_lexer": "ipython3",
   "version": "3.7.2"
  }
 },
 "nbformat": 4,
 "nbformat_minor": 2
}
